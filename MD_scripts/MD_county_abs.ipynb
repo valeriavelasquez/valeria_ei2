{
 "cells": [
  {
   "cell_type": "code",
   "execution_count": 56,
   "id": "51faa1ea",
   "metadata": {},
   "outputs": [
    {
     "name": "stdout",
     "output_type": "stream",
     "text": [
      "Requirement already satisfied: pandas in c:\\users\\rache\\anaconda3\\lib\\site-packages (1.2.4)\n",
      "Requirement already satisfied: python-dateutil>=2.7.3 in c:\\users\\rache\\anaconda3\\lib\\site-packages (from pandas) (2.8.1)\n",
      "Requirement already satisfied: numpy>=1.16.5 in c:\\users\\rache\\anaconda3\\lib\\site-packages (from pandas) (1.20.1)\n",
      "Requirement already satisfied: pytz>=2017.3 in c:\\users\\rache\\anaconda3\\lib\\site-packages (from pandas) (2021.1)\n",
      "Requirement already satisfied: six>=1.5 in c:\\users\\rache\\anaconda3\\lib\\site-packages (from python-dateutil>=2.7.3->pandas) (1.15.0)\n"
     ]
    }
   ],
   "source": [
    "!pip install pandas"
   ]
  },
  {
   "cell_type": "code",
   "execution_count": 1,
   "id": "c5c7a17e",
   "metadata": {},
   "outputs": [],
   "source": [
    "import pandas as pd"
   ]
  },
  {
   "cell_type": "code",
   "execution_count": 2,
   "id": "b056d78c",
   "metadata": {},
   "outputs": [],
   "source": [
    "counties = {\n",
    "        'Allegany' : '001',\n",
    "        'Anne_Arundel' : '003',\n",
    "        'Baltimore' : '005',\n",
    "        'Baltimore_City' : '510',\n",
    "        'Calvert' : '009',\n",
    "        'Caroline' : '011',\n",
    "        'Carroll' : '013',\n",
    "        'Cecil' : '015',\n",
    "        'Charles' : '017',\n",
    "        'Dorchester' : '019',\n",
    "        'Frederick' : '021',\n",
    "        'Garrett' : '023',\n",
    "        'Harford' : '025',\n",
    "        'Howard' : '027',\n",
    "        'Kent' : '029',\n",
    "        'Montgomery' : '031',\n",
    "        'Prince_Georges' : '033',\n",
    "        'Queen_Annes' : '035',\n",
    "        'St._Marys' : '037',\n",
    "        'Somerset' : '039',\n",
    "        'Talbot' : '041',\n",
    "        'Washington' : '043',\n",
    "        'Wicomico' : '045',\n",
    "        'Worcester' : '047'\n",
    "        }"
   ]
  },
  {
   "cell_type": "code",
   "execution_count": 3,
   "id": "5ba5fb57",
   "metadata": {},
   "outputs": [],
   "source": [
    "def get_md_data(year, counties = counties):\n",
    "    df = pd.DataFrame()\n",
    "    for county,fips in counties.items():\n",
    "        url = ('https://elections.maryland.gov/elections/{year}/election_data/' +\n",
    "               '{county}_County_{year}_General.csv').format(county = county, year = year)\n",
    "        temp_df = pd.read_csv(url, encoding = 'latin-1')\n",
    "        temp_df['county'] = fips\n",
    "        df = pd.concat([df,temp_df])\n",
    "    return df"
   ]
  },
  {
   "cell_type": "code",
   "execution_count": 15,
   "id": "b70f105f",
   "metadata": {},
   "outputs": [],
   "source": [
    "# df18 = get_md_data(year = '2018')\n",
    "# df16 = get_md_data(year = '2016')\n",
    "# df14 = get_md_data(year = '2014')\n",
    "# df12 = get_md_data(year = '2012')"
   ]
  },
  {
   "cell_type": "code",
   "execution_count": 16,
   "id": "9bc8bd1c",
   "metadata": {},
   "outputs": [],
   "source": [
    "df12 = df12[df12['Candidate Name'].str.contains('Obama')|\n",
    "            df12['Candidate Name'].str.contains('Romney')|\n",
    "           df12['Candidate Name'].str.contains('Cardin')|\n",
    "            df12['Candidate Name'].str.contains('Bongino')]"
   ]
  },
  {
   "cell_type": "code",
   "execution_count": 17,
   "id": "0245703f",
   "metadata": {},
   "outputs": [],
   "source": [
    "df12 = df12.replace('#NULL#', 0)"
   ]
  },
  {
   "cell_type": "code",
   "execution_count": 18,
   "id": "39e76e20",
   "metadata": {},
   "outputs": [],
   "source": [
    "df12['Early Votes'] = df12['Early Votes'].astype(int)\n",
    "df12['Absentees Votes'] = df12['Absentees Votes'].astype(int)\n",
    "df12['Provisional Votes'] = df12['Provisional Votes'].astype(int)\n",
    "df12['2nd Absentees Votes'] = df12['2nd Absentees Votes'].astype(int)"
   ]
  },
  {
   "cell_type": "code",
   "execution_count": 19,
   "id": "b4ce3391",
   "metadata": {},
   "outputs": [],
   "source": [
    "df12['Unprecincted'] = (df12['Early Votes'] + df12['Absentees Votes'] + \n",
    "    df12['Provisional Votes'] + df12['2nd Absentees Votes'])"
   ]
  },
  {
   "cell_type": "code",
   "execution_count": 20,
   "id": "962bd26d",
   "metadata": {},
   "outputs": [
    {
     "data": {
      "text/html": [
       "<div>\n",
       "<style scoped>\n",
       "    .dataframe tbody tr th:only-of-type {\n",
       "        vertical-align: middle;\n",
       "    }\n",
       "\n",
       "    .dataframe tbody tr th {\n",
       "        vertical-align: top;\n",
       "    }\n",
       "\n",
       "    .dataframe thead th {\n",
       "        text-align: right;\n",
       "    }\n",
       "</style>\n",
       "<table border=\"1\" class=\"dataframe\">\n",
       "  <thead>\n",
       "    <tr style=\"text-align: right;\">\n",
       "      <th></th>\n",
       "      <th>Candidate Name</th>\n",
       "      <th>Party</th>\n",
       "      <th>Office Name</th>\n",
       "      <th>Office District</th>\n",
       "      <th>Winner</th>\n",
       "      <th>Write-In?</th>\n",
       "      <th>Early Votes</th>\n",
       "      <th>Early Votes Against</th>\n",
       "      <th>Election Night Votes</th>\n",
       "      <th>Election Night Votes Against</th>\n",
       "      <th>Absentees Votes</th>\n",
       "      <th>Absentees Votes Against</th>\n",
       "      <th>Provisional Votes</th>\n",
       "      <th>Provisional Votes Against</th>\n",
       "      <th>2nd Absentees Votes</th>\n",
       "      <th>2nd Absentees Votes Against</th>\n",
       "      <th>Total Votes</th>\n",
       "      <th>Total Votes Against</th>\n",
       "      <th>county</th>\n",
       "      <th>Unprecincted</th>\n",
       "    </tr>\n",
       "  </thead>\n",
       "  <tbody>\n",
       "    <tr>\n",
       "      <th>0</th>\n",
       "      <td>Barack Obama</td>\n",
       "      <td>DEM</td>\n",
       "      <td>President - Vice Pres</td>\n",
       "      <td>NaN</td>\n",
       "      <td>Y</td>\n",
       "      <td>NaN</td>\n",
       "      <td>1056</td>\n",
       "      <td>NaN</td>\n",
       "      <td>7945</td>\n",
       "      <td>NaN</td>\n",
       "      <td>500</td>\n",
       "      <td>NaN</td>\n",
       "      <td>264</td>\n",
       "      <td>NaN</td>\n",
       "      <td>40</td>\n",
       "      <td>NaN</td>\n",
       "      <td>9805</td>\n",
       "      <td>NaN</td>\n",
       "      <td>001</td>\n",
       "      <td>1860</td>\n",
       "    </tr>\n",
       "    <tr>\n",
       "      <th>1</th>\n",
       "      <td>Mitt Romney</td>\n",
       "      <td>REP</td>\n",
       "      <td>President - Vice Pres</td>\n",
       "      <td>NaN</td>\n",
       "      <td>NaN</td>\n",
       "      <td>NaN</td>\n",
       "      <td>1557</td>\n",
       "      <td>NaN</td>\n",
       "      <td>16601</td>\n",
       "      <td>NaN</td>\n",
       "      <td>783</td>\n",
       "      <td>NaN</td>\n",
       "      <td>246</td>\n",
       "      <td>NaN</td>\n",
       "      <td>43</td>\n",
       "      <td>NaN</td>\n",
       "      <td>19230</td>\n",
       "      <td>NaN</td>\n",
       "      <td>001</td>\n",
       "      <td>2629</td>\n",
       "    </tr>\n",
       "    <tr>\n",
       "      <th>37</th>\n",
       "      <td>Ben Cardin</td>\n",
       "      <td>DEM</td>\n",
       "      <td>U.S. Senator</td>\n",
       "      <td>NaN</td>\n",
       "      <td>Y</td>\n",
       "      <td>NaN</td>\n",
       "      <td>1075</td>\n",
       "      <td>NaN</td>\n",
       "      <td>7635</td>\n",
       "      <td>NaN</td>\n",
       "      <td>512</td>\n",
       "      <td>NaN</td>\n",
       "      <td>246</td>\n",
       "      <td>NaN</td>\n",
       "      <td>39</td>\n",
       "      <td>NaN</td>\n",
       "      <td>9507</td>\n",
       "      <td>NaN</td>\n",
       "      <td>001</td>\n",
       "      <td>1872</td>\n",
       "    </tr>\n",
       "    <tr>\n",
       "      <th>38</th>\n",
       "      <td>Daniel John Bongino</td>\n",
       "      <td>REP</td>\n",
       "      <td>U.S. Senator</td>\n",
       "      <td>NaN</td>\n",
       "      <td>NaN</td>\n",
       "      <td>NaN</td>\n",
       "      <td>1215</td>\n",
       "      <td>NaN</td>\n",
       "      <td>12595</td>\n",
       "      <td>NaN</td>\n",
       "      <td>626</td>\n",
       "      <td>NaN</td>\n",
       "      <td>200</td>\n",
       "      <td>NaN</td>\n",
       "      <td>31</td>\n",
       "      <td>NaN</td>\n",
       "      <td>14667</td>\n",
       "      <td>NaN</td>\n",
       "      <td>001</td>\n",
       "      <td>2072</td>\n",
       "    </tr>\n",
       "    <tr>\n",
       "      <th>0</th>\n",
       "      <td>Barack Obama</td>\n",
       "      <td>DEM</td>\n",
       "      <td>President - Vice Pres</td>\n",
       "      <td>NaN</td>\n",
       "      <td>Y</td>\n",
       "      <td>NaN</td>\n",
       "      <td>22192</td>\n",
       "      <td>NaN</td>\n",
       "      <td>93934</td>\n",
       "      <td>NaN</td>\n",
       "      <td>5205</td>\n",
       "      <td>NaN</td>\n",
       "      <td>4003</td>\n",
       "      <td>NaN</td>\n",
       "      <td>1301</td>\n",
       "      <td>NaN</td>\n",
       "      <td>126635</td>\n",
       "      <td>NaN</td>\n",
       "      <td>003</td>\n",
       "      <td>32701</td>\n",
       "    </tr>\n",
       "  </tbody>\n",
       "</table>\n",
       "</div>"
      ],
      "text/plain": [
       "         Candidate Name Party              Office Name Office District Winner  \\\n",
       "0          Barack Obama   DEM    President - Vice Pres             NaN      Y   \n",
       "1           Mitt Romney   REP    President - Vice Pres             NaN    NaN   \n",
       "37           Ben Cardin   DEM  U.S. Senator                        NaN      Y   \n",
       "38  Daniel John Bongino   REP  U.S. Senator                        NaN    NaN   \n",
       "0          Barack Obama   DEM    President - Vice Pres             NaN      Y   \n",
       "\n",
       "   Write-In?  Early Votes  Early Votes Against  Election Night Votes  \\\n",
       "0        NaN         1056                  NaN                  7945   \n",
       "1        NaN         1557                  NaN                 16601   \n",
       "37       NaN         1075                  NaN                  7635   \n",
       "38       NaN         1215                  NaN                 12595   \n",
       "0        NaN        22192                  NaN                 93934   \n",
       "\n",
       "    Election Night Votes Against  Absentees Votes  Absentees Votes Against  \\\n",
       "0                            NaN              500                      NaN   \n",
       "1                            NaN              783                      NaN   \n",
       "37                           NaN              512                      NaN   \n",
       "38                           NaN              626                      NaN   \n",
       "0                            NaN             5205                      NaN   \n",
       "\n",
       "    Provisional Votes  Provisional Votes Against  2nd Absentees Votes  \\\n",
       "0                 264                        NaN                   40   \n",
       "1                 246                        NaN                   43   \n",
       "37                246                        NaN                   39   \n",
       "38                200                        NaN                   31   \n",
       "0                4003                        NaN                 1301   \n",
       "\n",
       "    2nd Absentees Votes Against  Total Votes  Total Votes Against county  \\\n",
       "0                           NaN         9805                  NaN    001   \n",
       "1                           NaN        19230                  NaN    001   \n",
       "37                          NaN         9507                  NaN    001   \n",
       "38                          NaN        14667                  NaN    001   \n",
       "0                           NaN       126635                  NaN    003   \n",
       "\n",
       "    Unprecincted  \n",
       "0           1860  \n",
       "1           2629  \n",
       "37          1872  \n",
       "38          2072  \n",
       "0          32701  "
      ]
     },
     "execution_count": 20,
     "metadata": {},
     "output_type": "execute_result"
    }
   ],
   "source": [
    "df12.head()"
   ]
  },
  {
   "cell_type": "code",
   "execution_count": 21,
   "id": "4e712dcf",
   "metadata": {},
   "outputs": [],
   "source": [
    "df12 = df12.pivot(index = 'county', columns = 'Candidate Name', values = 'Unprecincted')"
   ]
  },
  {
   "cell_type": "code",
   "execution_count": 22,
   "id": "1bfcd0fd",
   "metadata": {},
   "outputs": [
    {
     "data": {
      "text/plain": [
       "Index(['001', '003', '005', '009', '011', '013', '015', '017', '019', '021',\n",
       "       '023', '025', '027', '029', '031', '033', '035', '037', '039', '041',\n",
       "       '043', '045', '047', '510'],\n",
       "      dtype='object', name='county')"
      ]
     },
     "execution_count": 22,
     "metadata": {},
     "output_type": "execute_result"
    }
   ],
   "source": [
    "df12.index"
   ]
  },
  {
   "cell_type": "code",
   "execution_count": 23,
   "id": "e5beca1c",
   "metadata": {},
   "outputs": [],
   "source": [
    "df12 = df12.fillna(0)"
   ]
  },
  {
   "cell_type": "code",
   "execution_count": 24,
   "id": "bc3c381e",
   "metadata": {},
   "outputs": [],
   "source": [
    "cand_mapping12 = {\n",
    "        'Ben Cardin' : 'SEN12D',\n",
    "        'Daniel John Bongino' : 'SEN12R',\n",
    "        'Barack Obama': 'PRES12D',\n",
    "        'Mitt Romney': 'PRES12R',\n",
    "        }"
   ]
  },
  {
   "cell_type": "code",
   "execution_count": 25,
   "id": "567c76e4",
   "metadata": {},
   "outputs": [],
   "source": [
    "df12 = df12.rename(columns = cand_mapping12)"
   ]
  },
  {
   "cell_type": "code",
   "execution_count": 26,
   "id": "c2136005",
   "metadata": {},
   "outputs": [
    {
     "data": {
      "text/html": [
       "<div>\n",
       "<style scoped>\n",
       "    .dataframe tbody tr th:only-of-type {\n",
       "        vertical-align: middle;\n",
       "    }\n",
       "\n",
       "    .dataframe tbody tr th {\n",
       "        vertical-align: top;\n",
       "    }\n",
       "\n",
       "    .dataframe thead th {\n",
       "        text-align: right;\n",
       "    }\n",
       "</style>\n",
       "<table border=\"1\" class=\"dataframe\">\n",
       "  <thead>\n",
       "    <tr style=\"text-align: right;\">\n",
       "      <th>Candidate Name</th>\n",
       "      <th>PRES12D</th>\n",
       "      <th>SEN12D</th>\n",
       "      <th>SEN12R</th>\n",
       "      <th>PRES12R</th>\n",
       "    </tr>\n",
       "    <tr>\n",
       "      <th>county</th>\n",
       "      <th></th>\n",
       "      <th></th>\n",
       "      <th></th>\n",
       "      <th></th>\n",
       "    </tr>\n",
       "  </thead>\n",
       "  <tbody>\n",
       "    <tr>\n",
       "      <th>001</th>\n",
       "      <td>1860</td>\n",
       "      <td>1872</td>\n",
       "      <td>2072</td>\n",
       "      <td>2629</td>\n",
       "    </tr>\n",
       "    <tr>\n",
       "      <th>003</th>\n",
       "      <td>32701</td>\n",
       "      <td>29750</td>\n",
       "      <td>19332</td>\n",
       "      <td>23783</td>\n",
       "    </tr>\n",
       "    <tr>\n",
       "      <th>005</th>\n",
       "      <td>57527</td>\n",
       "      <td>53535</td>\n",
       "      <td>16996</td>\n",
       "      <td>25065</td>\n",
       "    </tr>\n",
       "    <tr>\n",
       "      <th>009</th>\n",
       "      <td>5186</td>\n",
       "      <td>4684</td>\n",
       "      <td>3759</td>\n",
       "      <td>4831</td>\n",
       "    </tr>\n",
       "    <tr>\n",
       "      <th>011</th>\n",
       "      <td>1330</td>\n",
       "      <td>1240</td>\n",
       "      <td>1334</td>\n",
       "      <td>1768</td>\n",
       "    </tr>\n",
       "  </tbody>\n",
       "</table>\n",
       "</div>"
      ],
      "text/plain": [
       "Candidate Name  PRES12D  SEN12D  SEN12R  PRES12R\n",
       "county                                          \n",
       "001                1860    1872    2072     2629\n",
       "003               32701   29750   19332    23783\n",
       "005               57527   53535   16996    25065\n",
       "009                5186    4684    3759     4831\n",
       "011                1330    1240    1334     1768"
      ]
     },
     "execution_count": 26,
     "metadata": {},
     "output_type": "execute_result"
    }
   ],
   "source": [
    "df12.head()"
   ]
  },
  {
   "cell_type": "code",
   "execution_count": 27,
   "id": "63c22e8f",
   "metadata": {},
   "outputs": [],
   "source": [
    "df12.reset_index(level=0, inplace=True)"
   ]
  },
  {
   "cell_type": "code",
   "execution_count": 50,
   "id": "bac26298",
   "metadata": {},
   "outputs": [],
   "source": [
    "df14 = get_md_data(year = '2014')"
   ]
  },
  {
   "cell_type": "code",
   "execution_count": 51,
   "id": "0e0e09dc",
   "metadata": {},
   "outputs": [
    {
     "data": {
      "text/plain": [
       "['Larry Hogan',\n",
       " 'Larry Hogan',\n",
       " 'Larry Hogan',\n",
       " 'Larry Hogan',\n",
       " 'Larry Hogan',\n",
       " 'Larry Hogan',\n",
       " 'Larry Hogan',\n",
       " 'Larry Hogan',\n",
       " 'Larry Hogan',\n",
       " 'Larry Hogan',\n",
       " 'Larry Hogan',\n",
       " 'Larry Hogan',\n",
       " 'Larry Hogan',\n",
       " 'Larry Hogan',\n",
       " 'Larry Hogan',\n",
       " 'Larry Hogan',\n",
       " 'Larry Hogan',\n",
       " 'Larry Hogan',\n",
       " 'Suzanne Hogan',\n",
       " 'Larry Hogan',\n",
       " 'Larry Hogan',\n",
       " 'Larry Hogan',\n",
       " 'Larry Hogan',\n",
       " 'Larry Hogan',\n",
       " 'Larry Hogan']"
      ]
     },
     "execution_count": 51,
     "metadata": {},
     "output_type": "execute_result"
    }
   ],
   "source": [
    "list(filter(lambda x: \"Hogan\" in x, list(df14[\"Candidate Name\"])))"
   ]
  },
  {
   "cell_type": "code",
   "execution_count": 52,
   "id": "d83024f2",
   "metadata": {},
   "outputs": [],
   "source": [
    "df14 = df14.replace('#NULL#', 0)"
   ]
  },
  {
   "cell_type": "code",
   "execution_count": 53,
   "id": "b82facbc",
   "metadata": {},
   "outputs": [],
   "source": [
    "df14['Early Votes'] = df14['Early Votes'].astype(int)\n",
    "df14['Absentees Votes'] = df14['Absentees Votes'].astype(int)\n",
    "df14['Provisional Votes'] = df14['Provisional Votes'].astype(int)\n",
    "df14['2nd Absentees Votes'] = df14['2nd Absentees Votes'].astype(int)"
   ]
  },
  {
   "cell_type": "code",
   "execution_count": 54,
   "id": "7ce52e3a",
   "metadata": {},
   "outputs": [],
   "source": [
    "df14 = df14[(df14['Candidate Name'].str.contains('Anthony G. Brown')|\n",
    "        df14['Candidate Name'].str.contains('Larry Hogan')|\n",
    "        df14['Candidate Name'].str.contains('Brian E. Frosh')|\n",
    "        df14['Candidate Name'].str.contains('Jeffrey N. Pritzker')|\n",
    "        df14['Candidate Name'].str.contains('Peter Franchot')|\n",
    "        df14['Candidate Name'].str.contains('William H. Campbell'))]"
   ]
  },
  {
   "cell_type": "code",
   "execution_count": 55,
   "id": "19960409",
   "metadata": {},
   "outputs": [],
   "source": [
    "df14['Unprecincted'] = (df14['Early Votes'] + df14['Absentees Votes'] + \n",
    "    df14['Provisional Votes'] + df14['2nd Absentees Votes'])"
   ]
  },
  {
   "cell_type": "code",
   "execution_count": 56,
   "id": "1b568cd4",
   "metadata": {},
   "outputs": [],
   "source": [
    "df14 = df14.pivot(index = 'county', columns = 'Candidate Name', values = 'Unprecincted')"
   ]
  },
  {
   "cell_type": "code",
   "execution_count": 57,
   "id": "2fa12dfb",
   "metadata": {},
   "outputs": [
    {
     "data": {
      "text/html": [
       "<div>\n",
       "<style scoped>\n",
       "    .dataframe tbody tr th:only-of-type {\n",
       "        vertical-align: middle;\n",
       "    }\n",
       "\n",
       "    .dataframe tbody tr th {\n",
       "        vertical-align: top;\n",
       "    }\n",
       "\n",
       "    .dataframe thead th {\n",
       "        text-align: right;\n",
       "    }\n",
       "</style>\n",
       "<table border=\"1\" class=\"dataframe\">\n",
       "  <thead>\n",
       "    <tr style=\"text-align: right;\">\n",
       "      <th>Candidate Name</th>\n",
       "      <th>Anthony G. Brown</th>\n",
       "      <th>Brian E. Frosh</th>\n",
       "      <th>Jeffrey N. Pritzker</th>\n",
       "      <th>Larry Hogan</th>\n",
       "      <th>Peter Franchot</th>\n",
       "      <th>William H. Campbell</th>\n",
       "    </tr>\n",
       "    <tr>\n",
       "      <th>county</th>\n",
       "      <th></th>\n",
       "      <th></th>\n",
       "      <th></th>\n",
       "      <th></th>\n",
       "      <th></th>\n",
       "      <th></th>\n",
       "    </tr>\n",
       "  </thead>\n",
       "  <tbody>\n",
       "    <tr>\n",
       "      <th>001</th>\n",
       "      <td>709</td>\n",
       "      <td>815</td>\n",
       "      <td>1250</td>\n",
       "      <td>1564</td>\n",
       "      <td>1237</td>\n",
       "      <td>1032</td>\n",
       "    </tr>\n",
       "    <tr>\n",
       "      <th>003</th>\n",
       "      <td>18076</td>\n",
       "      <td>22062</td>\n",
       "      <td>22937</td>\n",
       "      <td>28873</td>\n",
       "      <td>27406</td>\n",
       "      <td>19534</td>\n",
       "    </tr>\n",
       "    <tr>\n",
       "      <th>005</th>\n",
       "      <td>28785</td>\n",
       "      <td>36195</td>\n",
       "      <td>22660</td>\n",
       "      <td>32214</td>\n",
       "      <td>43546</td>\n",
       "      <td>17819</td>\n",
       "    </tr>\n",
       "    <tr>\n",
       "      <th>009</th>\n",
       "      <td>2093</td>\n",
       "      <td>2410</td>\n",
       "      <td>3110</td>\n",
       "      <td>3858</td>\n",
       "      <td>2689</td>\n",
       "      <td>3144</td>\n",
       "    </tr>\n",
       "    <tr>\n",
       "      <th>011</th>\n",
       "      <td>474</td>\n",
       "      <td>654</td>\n",
       "      <td>1025</td>\n",
       "      <td>1368</td>\n",
       "      <td>1038</td>\n",
       "      <td>779</td>\n",
       "    </tr>\n",
       "  </tbody>\n",
       "</table>\n",
       "</div>"
      ],
      "text/plain": [
       "Candidate Name  Anthony G. Brown  Brian E. Frosh  Jeffrey N. Pritzker  \\\n",
       "county                                                                  \n",
       "001                          709             815                 1250   \n",
       "003                        18076           22062                22937   \n",
       "005                        28785           36195                22660   \n",
       "009                         2093            2410                 3110   \n",
       "011                          474             654                 1025   \n",
       "\n",
       "Candidate Name  Larry Hogan  Peter Franchot  William H. Campbell  \n",
       "county                                                            \n",
       "001                    1564            1237                 1032  \n",
       "003                   28873           27406                19534  \n",
       "005                   32214           43546                17819  \n",
       "009                    3858            2689                 3144  \n",
       "011                    1368            1038                  779  "
      ]
     },
     "execution_count": 57,
     "metadata": {},
     "output_type": "execute_result"
    }
   ],
   "source": [
    "df14.head()"
   ]
  },
  {
   "cell_type": "code",
   "execution_count": 58,
   "id": "855eba01",
   "metadata": {},
   "outputs": [],
   "source": [
    "cand_mapping14 = {\n",
    "        'Anthony G. Brown' : 'GOV14D',\n",
    "        'Larry Hogan' : 'GOV14R',\n",
    "        'Brian E. Frosh' : 'AG14D',\n",
    "        'Jeffrey N. Pritzker' : 'AG14R',\n",
    "        'Peter Franchot' : 'COMP14D',\n",
    "        'William H. Campbell' : 'COMP14R',\n",
    "        }"
   ]
  },
  {
   "cell_type": "code",
   "execution_count": 59,
   "id": "73fb259d",
   "metadata": {},
   "outputs": [],
   "source": [
    "df14 = df14.rename(columns = cand_mapping14)"
   ]
  },
  {
   "cell_type": "code",
   "execution_count": 60,
   "id": "ead5cbc5",
   "metadata": {},
   "outputs": [],
   "source": [
    "df14.reset_index(level=0, inplace=True)"
   ]
  },
  {
   "cell_type": "code",
   "execution_count": 61,
   "id": "3216de1f",
   "metadata": {},
   "outputs": [
    {
     "data": {
      "text/html": [
       "<div>\n",
       "<style scoped>\n",
       "    .dataframe tbody tr th:only-of-type {\n",
       "        vertical-align: middle;\n",
       "    }\n",
       "\n",
       "    .dataframe tbody tr th {\n",
       "        vertical-align: top;\n",
       "    }\n",
       "\n",
       "    .dataframe thead th {\n",
       "        text-align: right;\n",
       "    }\n",
       "</style>\n",
       "<table border=\"1\" class=\"dataframe\">\n",
       "  <thead>\n",
       "    <tr style=\"text-align: right;\">\n",
       "      <th>Candidate Name</th>\n",
       "      <th>county</th>\n",
       "      <th>GOV14D</th>\n",
       "      <th>AG14D</th>\n",
       "      <th>AG14R</th>\n",
       "      <th>GOV14R</th>\n",
       "      <th>COMP14D</th>\n",
       "      <th>COMP14R</th>\n",
       "    </tr>\n",
       "  </thead>\n",
       "  <tbody>\n",
       "    <tr>\n",
       "      <th>0</th>\n",
       "      <td>001</td>\n",
       "      <td>709</td>\n",
       "      <td>815</td>\n",
       "      <td>1250</td>\n",
       "      <td>1564</td>\n",
       "      <td>1237</td>\n",
       "      <td>1032</td>\n",
       "    </tr>\n",
       "    <tr>\n",
       "      <th>1</th>\n",
       "      <td>003</td>\n",
       "      <td>18076</td>\n",
       "      <td>22062</td>\n",
       "      <td>22937</td>\n",
       "      <td>28873</td>\n",
       "      <td>27406</td>\n",
       "      <td>19534</td>\n",
       "    </tr>\n",
       "    <tr>\n",
       "      <th>2</th>\n",
       "      <td>005</td>\n",
       "      <td>28785</td>\n",
       "      <td>36195</td>\n",
       "      <td>22660</td>\n",
       "      <td>32214</td>\n",
       "      <td>43546</td>\n",
       "      <td>17819</td>\n",
       "    </tr>\n",
       "    <tr>\n",
       "      <th>3</th>\n",
       "      <td>009</td>\n",
       "      <td>2093</td>\n",
       "      <td>2410</td>\n",
       "      <td>3110</td>\n",
       "      <td>3858</td>\n",
       "      <td>2689</td>\n",
       "      <td>3144</td>\n",
       "    </tr>\n",
       "    <tr>\n",
       "      <th>4</th>\n",
       "      <td>011</td>\n",
       "      <td>474</td>\n",
       "      <td>654</td>\n",
       "      <td>1025</td>\n",
       "      <td>1368</td>\n",
       "      <td>1038</td>\n",
       "      <td>779</td>\n",
       "    </tr>\n",
       "  </tbody>\n",
       "</table>\n",
       "</div>"
      ],
      "text/plain": [
       "Candidate Name county  GOV14D  AG14D  AG14R  GOV14R  COMP14D  COMP14R\n",
       "0                 001     709    815   1250    1564     1237     1032\n",
       "1                 003   18076  22062  22937   28873    27406    19534\n",
       "2                 005   28785  36195  22660   32214    43546    17819\n",
       "3                 009    2093   2410   3110    3858     2689     3144\n",
       "4                 011     474    654   1025    1368     1038      779"
      ]
     },
     "execution_count": 61,
     "metadata": {},
     "output_type": "execute_result"
    }
   ],
   "source": [
    "df14.head()"
   ]
  },
  {
   "cell_type": "code",
   "execution_count": null,
   "id": "d88e5780",
   "metadata": {},
   "outputs": [],
   "source": []
  },
  {
   "cell_type": "code",
   "execution_count": 62,
   "id": "b0fa12ea",
   "metadata": {},
   "outputs": [],
   "source": [
    "df16 = get_md_data(year = '2016')"
   ]
  },
  {
   "cell_type": "code",
   "execution_count": 68,
   "id": "de2ae584",
   "metadata": {},
   "outputs": [
    {
     "data": {
      "text/plain": [
       "['Kathy Szeliga',\n",
       " 'Kathy Szeliga',\n",
       " 'Kathy Szeliga',\n",
       " 'Kathy Szeliga',\n",
       " 'Kathy Szeliga',\n",
       " 'Kathy Szeliga',\n",
       " 'Kathy Szeliga',\n",
       " 'Kathy Szeliga',\n",
       " 'Kathy Szeliga',\n",
       " 'Kathy Szeliga',\n",
       " 'Kathy Szeliga',\n",
       " 'Kathy Szeliga',\n",
       " 'Kathy Szeliga',\n",
       " 'Kathy Szeliga',\n",
       " 'Kathy Szeliga',\n",
       " 'Kathy Szeliga',\n",
       " 'Kathy Szeliga',\n",
       " 'Kathy Szeliga',\n",
       " 'Kathy Szeliga',\n",
       " 'Kathy Szeliga',\n",
       " 'Kathy Szeliga',\n",
       " 'Kathy Szeliga',\n",
       " 'Kathy Szeliga',\n",
       " 'Kathy Szeliga']"
      ]
     },
     "execution_count": 68,
     "metadata": {},
     "output_type": "execute_result"
    }
   ],
   "source": [
    "list(filter(lambda x: \"Szeliga\" in x, list(df16[\"Candidate Name\"])))"
   ]
  },
  {
   "cell_type": "code",
   "execution_count": 64,
   "id": "72d62317",
   "metadata": {},
   "outputs": [],
   "source": [
    "df16 = df16.replace('#NULL#', 0)"
   ]
  },
  {
   "cell_type": "code",
   "execution_count": 65,
   "id": "647f2f7e",
   "metadata": {},
   "outputs": [],
   "source": [
    "df16['Early Votes'] = df16['Early Votes'].astype(int)"
   ]
  },
  {
   "cell_type": "code",
   "execution_count": 71,
   "id": "19c43474",
   "metadata": {},
   "outputs": [],
   "source": [
    "df16 = df16[df16['Candidate Name'].str.contains('Hillary Clinton')|\n",
    "            df16['Candidate Name'].str.contains('Donald J. Trump')|\n",
    "            df16['Candidate Name'].str.contains('Chris Van Hollen')|\n",
    "            df16['Candidate Name'].str.contains('Kathy Szeliga')]"
   ]
  },
  {
   "cell_type": "code",
   "execution_count": 72,
   "id": "595ef9bb",
   "metadata": {},
   "outputs": [],
   "source": [
    "df16['Early Votes'] = df16['Early Votes'].astype(int)"
   ]
  },
  {
   "cell_type": "code",
   "execution_count": 73,
   "id": "a8e6976c",
   "metadata": {},
   "outputs": [],
   "source": [
    "df16['Unprecincted'] = (df16['Early Votes'] + df16['Absentees Votes'] + \n",
    "    df16['Provisional Votes'] + df16['2nd Absentees Votes'])"
   ]
  },
  {
   "cell_type": "code",
   "execution_count": 74,
   "id": "a014992b",
   "metadata": {},
   "outputs": [],
   "source": [
    "df16 = df16.pivot(index = 'county', columns = 'Candidate Name', values = 'Unprecincted')"
   ]
  },
  {
   "cell_type": "code",
   "execution_count": 75,
   "id": "8beb2755",
   "metadata": {},
   "outputs": [
    {
     "data": {
      "text/html": [
       "<div>\n",
       "<style scoped>\n",
       "    .dataframe tbody tr th:only-of-type {\n",
       "        vertical-align: middle;\n",
       "    }\n",
       "\n",
       "    .dataframe tbody tr th {\n",
       "        vertical-align: top;\n",
       "    }\n",
       "\n",
       "    .dataframe thead th {\n",
       "        text-align: right;\n",
       "    }\n",
       "</style>\n",
       "<table border=\"1\" class=\"dataframe\">\n",
       "  <thead>\n",
       "    <tr style=\"text-align: right;\">\n",
       "      <th>Candidate Name</th>\n",
       "      <th>Chris Van Hollen</th>\n",
       "      <th>Donald J. Trump</th>\n",
       "      <th>Hillary Clinton</th>\n",
       "      <th>Kathy Szeliga</th>\n",
       "    </tr>\n",
       "    <tr>\n",
       "      <th>county</th>\n",
       "      <th></th>\n",
       "      <th></th>\n",
       "      <th></th>\n",
       "      <th></th>\n",
       "    </tr>\n",
       "  </thead>\n",
       "  <tbody>\n",
       "    <tr>\n",
       "      <th>001</th>\n",
       "      <td>2641</td>\n",
       "      <td>3551</td>\n",
       "      <td>2493</td>\n",
       "      <td>3114</td>\n",
       "    </tr>\n",
       "    <tr>\n",
       "      <th>003</th>\n",
       "      <td>55192</td>\n",
       "      <td>36866</td>\n",
       "      <td>56152</td>\n",
       "      <td>38463</td>\n",
       "    </tr>\n",
       "    <tr>\n",
       "      <th>005</th>\n",
       "      <td>101360</td>\n",
       "      <td>47962</td>\n",
       "      <td>102276</td>\n",
       "      <td>48958</td>\n",
       "    </tr>\n",
       "    <tr>\n",
       "      <th>009</th>\n",
       "      <td>7047</td>\n",
       "      <td>7705</td>\n",
       "      <td>7263</td>\n",
       "      <td>7669</td>\n",
       "    </tr>\n",
       "    <tr>\n",
       "      <th>011</th>\n",
       "      <td>1702</td>\n",
       "      <td>2699</td>\n",
       "      <td>1486</td>\n",
       "      <td>2500</td>\n",
       "    </tr>\n",
       "  </tbody>\n",
       "</table>\n",
       "</div>"
      ],
      "text/plain": [
       "Candidate Name  Chris Van Hollen  Donald J. Trump  Hillary Clinton  \\\n",
       "county                                                               \n",
       "001                         2641             3551             2493   \n",
       "003                        55192            36866            56152   \n",
       "005                       101360            47962           102276   \n",
       "009                         7047             7705             7263   \n",
       "011                         1702             2699             1486   \n",
       "\n",
       "Candidate Name  Kathy Szeliga  \n",
       "county                         \n",
       "001                      3114  \n",
       "003                     38463  \n",
       "005                     48958  \n",
       "009                      7669  \n",
       "011                      2500  "
      ]
     },
     "execution_count": 75,
     "metadata": {},
     "output_type": "execute_result"
    }
   ],
   "source": [
    "df16.head()"
   ]
  },
  {
   "cell_type": "code",
   "execution_count": 76,
   "id": "403ae300",
   "metadata": {},
   "outputs": [],
   "source": [
    "df16.reset_index(level=0, inplace=True)"
   ]
  },
  {
   "cell_type": "code",
   "execution_count": 78,
   "id": "747563fc",
   "metadata": {},
   "outputs": [],
   "source": [
    "cand_mapping16 = {\n",
    "        'Chris Van Hollen' : 'SEN16D',\n",
    "        'Kathy Szeliga': 'SEN16R',\n",
    "        'Hillary Clinton': 'PRES16D',\n",
    "        'Donald J. Trump': 'PRES16R',\n",
    "        }"
   ]
  },
  {
   "cell_type": "code",
   "execution_count": 79,
   "id": "524c580b",
   "metadata": {},
   "outputs": [],
   "source": [
    "df16 = df16.rename(columns = cand_mapping16)"
   ]
  },
  {
   "cell_type": "code",
   "execution_count": 80,
   "id": "a9381e6e",
   "metadata": {},
   "outputs": [
    {
     "data": {
      "text/html": [
       "<div>\n",
       "<style scoped>\n",
       "    .dataframe tbody tr th:only-of-type {\n",
       "        vertical-align: middle;\n",
       "    }\n",
       "\n",
       "    .dataframe tbody tr th {\n",
       "        vertical-align: top;\n",
       "    }\n",
       "\n",
       "    .dataframe thead th {\n",
       "        text-align: right;\n",
       "    }\n",
       "</style>\n",
       "<table border=\"1\" class=\"dataframe\">\n",
       "  <thead>\n",
       "    <tr style=\"text-align: right;\">\n",
       "      <th>Candidate Name</th>\n",
       "      <th>county</th>\n",
       "      <th>SEN16D</th>\n",
       "      <th>PRES16R</th>\n",
       "      <th>PRES16D</th>\n",
       "      <th>SEN16R</th>\n",
       "    </tr>\n",
       "  </thead>\n",
       "  <tbody>\n",
       "    <tr>\n",
       "      <th>0</th>\n",
       "      <td>001</td>\n",
       "      <td>2641</td>\n",
       "      <td>3551</td>\n",
       "      <td>2493</td>\n",
       "      <td>3114</td>\n",
       "    </tr>\n",
       "    <tr>\n",
       "      <th>1</th>\n",
       "      <td>003</td>\n",
       "      <td>55192</td>\n",
       "      <td>36866</td>\n",
       "      <td>56152</td>\n",
       "      <td>38463</td>\n",
       "    </tr>\n",
       "    <tr>\n",
       "      <th>2</th>\n",
       "      <td>005</td>\n",
       "      <td>101360</td>\n",
       "      <td>47962</td>\n",
       "      <td>102276</td>\n",
       "      <td>48958</td>\n",
       "    </tr>\n",
       "    <tr>\n",
       "      <th>3</th>\n",
       "      <td>009</td>\n",
       "      <td>7047</td>\n",
       "      <td>7705</td>\n",
       "      <td>7263</td>\n",
       "      <td>7669</td>\n",
       "    </tr>\n",
       "    <tr>\n",
       "      <th>4</th>\n",
       "      <td>011</td>\n",
       "      <td>1702</td>\n",
       "      <td>2699</td>\n",
       "      <td>1486</td>\n",
       "      <td>2500</td>\n",
       "    </tr>\n",
       "  </tbody>\n",
       "</table>\n",
       "</div>"
      ],
      "text/plain": [
       "Candidate Name county  SEN16D  PRES16R  PRES16D  SEN16R\n",
       "0                 001    2641     3551     2493    3114\n",
       "1                 003   55192    36866    56152   38463\n",
       "2                 005  101360    47962   102276   48958\n",
       "3                 009    7047     7705     7263    7669\n",
       "4                 011    1702     2699     1486    2500"
      ]
     },
     "execution_count": 80,
     "metadata": {},
     "output_type": "execute_result"
    }
   ],
   "source": [
    "df16.head()"
   ]
  },
  {
   "cell_type": "code",
   "execution_count": null,
   "id": "51d19ee2",
   "metadata": {},
   "outputs": [],
   "source": []
  },
  {
   "cell_type": "code",
   "execution_count": 81,
   "id": "3e4e72cf",
   "metadata": {},
   "outputs": [],
   "source": [
    "df18 = get_md_data(year = '2018')"
   ]
  },
  {
   "cell_type": "code",
   "execution_count": 88,
   "id": "6261f060",
   "metadata": {},
   "outputs": [
    {
     "data": {
      "text/plain": [
       "['Anjali Reed Phukan',\n",
       " 'Anjali Reed Phukan',\n",
       " 'Anjali Reed Phukan',\n",
       " 'Anjali Reed Phukan',\n",
       " 'Anjali Reed Phukan',\n",
       " 'Anjali Reed Phukan',\n",
       " 'Anjali Reed Phukan',\n",
       " 'Anjali Reed Phukan',\n",
       " 'Anjali Reed Phukan',\n",
       " 'Anjali Reed Phukan',\n",
       " 'Anjali Reed Phukan',\n",
       " 'Anjali Reed Phukan',\n",
       " 'Anjali Reed Phukan',\n",
       " 'Anjali Reed Phukan',\n",
       " 'Anjali Reed Phukan',\n",
       " 'Anjali Reed Phukan',\n",
       " 'Anjali Reed Phukan',\n",
       " 'Anjali Reed Phukan',\n",
       " 'Anjali Reed Phukan',\n",
       " 'Anjali Reed Phukan',\n",
       " 'Anjali Reed Phukan',\n",
       " 'Anjali Reed Phukan',\n",
       " 'Anjali Reed Phukan',\n",
       " 'Anjali Reed Phukan']"
      ]
     },
     "execution_count": 88,
     "metadata": {},
     "output_type": "execute_result"
    }
   ],
   "source": [
    "list(filter(lambda x: \"Phukan\" in x, list(df18[\"Candidate Name\"])))"
   ]
  },
  {
   "cell_type": "code",
   "execution_count": 89,
   "id": "68ae0c34",
   "metadata": {},
   "outputs": [],
   "source": [
    "df18 = df18[df18['Candidate Name'].str.contains('Ben Jealous')|\n",
    "        df18['Candidate Name'].str.contains('Larry Hogan')|\n",
    "        df18['Candidate Name'].str.contains('Ben Cardin')|\n",
    "        df18['Candidate Name'].str.contains('Tony Campbell')|\n",
    "        df18['Candidate Name'].str.contains('Brian E. Frosh')|\n",
    "        df18['Candidate Name'].str.contains('Craig Wolf')|\n",
    "        df18['Candidate Name'].str.contains('Peter Franchot')|\n",
    "        df18['Candidate Name'].str.contains('Anjali Reed Phukan')]"
   ]
  },
  {
   "cell_type": "code",
   "execution_count": 90,
   "id": "d9b4accb",
   "metadata": {},
   "outputs": [],
   "source": [
    "df18['Unprecincted'] = (df18['Early Votes'] + df18['Absentees Votes'] + \n",
    "    df18['Provisional Votes'] + df18['2nd Absentees Votes'])"
   ]
  },
  {
   "cell_type": "code",
   "execution_count": 91,
   "id": "4f2d51e8",
   "metadata": {},
   "outputs": [],
   "source": [
    "df18 = df18.pivot(index = 'county', columns = 'Candidate Name', values = 'Unprecincted')"
   ]
  },
  {
   "cell_type": "code",
   "execution_count": 92,
   "id": "b145cdb7",
   "metadata": {},
   "outputs": [],
   "source": [
    "# cand_mapping18 = {\n",
    "#         'Ben Jealous' : 'GOV18PD_BJEALOUS',\n",
    "#         'Jim Shea' : 'GOV18PD_JSHEA',\n",
    "#         \"Krish O'Mara Vignarajah\" : 'GOV18PD_KVIGNARAJAH',\n",
    "#         'Rich Madaleno' : 'GOV18PD_RMADALENO',\n",
    "#         'Rushern L. Baker, III' : 'GOV18PD_RBAKER',\n",
    "#         }\n",
    "cand_mapping18 = {\n",
    "    \"Ben Jealous\": \"GOV18D\",\n",
    "    \"Larry Hogan\": \"GOV18R\",\n",
    "    \"Ben Cardin\": \"SEN18D\",\n",
    "    \"Tony Campbell\": \"SEN18R\",\n",
    "    \"Brian E. Frosh\": \"AG18D\",\n",
    "    \"Craig Wolf\": \"AG18R\",\n",
    "    \"Peter Franchot\": \"COMP18D\",\n",
    "    \"Anjali Reed Phukan\": \"COMP18R\"\n",
    "}"
   ]
  },
  {
   "cell_type": "code",
   "execution_count": 93,
   "id": "8ad214c8",
   "metadata": {},
   "outputs": [],
   "source": [
    "df18 = df18.rename(columns = cand_mapping18)"
   ]
  },
  {
   "cell_type": "code",
   "execution_count": 94,
   "id": "1172603b",
   "metadata": {},
   "outputs": [],
   "source": [
    "df18.reset_index(level=0, inplace=True)"
   ]
  },
  {
   "cell_type": "code",
   "execution_count": 95,
   "id": "46796079",
   "metadata": {},
   "outputs": [
    {
     "data": {
      "text/html": [
       "<div>\n",
       "<style scoped>\n",
       "    .dataframe tbody tr th:only-of-type {\n",
       "        vertical-align: middle;\n",
       "    }\n",
       "\n",
       "    .dataframe tbody tr th {\n",
       "        vertical-align: top;\n",
       "    }\n",
       "\n",
       "    .dataframe thead th {\n",
       "        text-align: right;\n",
       "    }\n",
       "</style>\n",
       "<table border=\"1\" class=\"dataframe\">\n",
       "  <thead>\n",
       "    <tr style=\"text-align: right;\">\n",
       "      <th>Candidate Name</th>\n",
       "      <th>county</th>\n",
       "      <th>COMP18R</th>\n",
       "      <th>SEN18D</th>\n",
       "      <th>GOV18D</th>\n",
       "      <th>AG18D</th>\n",
       "      <th>AG18R</th>\n",
       "      <th>GOV18R</th>\n",
       "      <th>COMP18D</th>\n",
       "      <th>SEN18R</th>\n",
       "    </tr>\n",
       "  </thead>\n",
       "  <tbody>\n",
       "    <tr>\n",
       "      <th>0</th>\n",
       "      <td>001</td>\n",
       "      <td>1585</td>\n",
       "      <td>2332</td>\n",
       "      <td>1296</td>\n",
       "      <td>2082</td>\n",
       "      <td>2448</td>\n",
       "      <td>3231</td>\n",
       "      <td>2836</td>\n",
       "      <td>2073</td>\n",
       "    </tr>\n",
       "    <tr>\n",
       "      <th>1</th>\n",
       "      <td>003</td>\n",
       "      <td>24760</td>\n",
       "      <td>51398</td>\n",
       "      <td>29902</td>\n",
       "      <td>51245</td>\n",
       "      <td>32891</td>\n",
       "      <td>53766</td>\n",
       "      <td>58150</td>\n",
       "      <td>29002</td>\n",
       "    </tr>\n",
       "    <tr>\n",
       "      <th>2</th>\n",
       "      <td>005</td>\n",
       "      <td>26209</td>\n",
       "      <td>80277</td>\n",
       "      <td>50465</td>\n",
       "      <td>79746</td>\n",
       "      <td>40901</td>\n",
       "      <td>69162</td>\n",
       "      <td>91940</td>\n",
       "      <td>33614</td>\n",
       "    </tr>\n",
       "    <tr>\n",
       "      <th>3</th>\n",
       "      <td>009</td>\n",
       "      <td>4196</td>\n",
       "      <td>5708</td>\n",
       "      <td>3248</td>\n",
       "      <td>5575</td>\n",
       "      <td>5227</td>\n",
       "      <td>7687</td>\n",
       "      <td>6416</td>\n",
       "      <td>4822</td>\n",
       "    </tr>\n",
       "    <tr>\n",
       "      <th>4</th>\n",
       "      <td>011</td>\n",
       "      <td>1214</td>\n",
       "      <td>1422</td>\n",
       "      <td>619</td>\n",
       "      <td>1336</td>\n",
       "      <td>2092</td>\n",
       "      <td>2867</td>\n",
       "      <td>2190</td>\n",
       "      <td>1823</td>\n",
       "    </tr>\n",
       "  </tbody>\n",
       "</table>\n",
       "</div>"
      ],
      "text/plain": [
       "Candidate Name county  COMP18R  SEN18D  GOV18D  AG18D  AG18R  GOV18R  COMP18D  \\\n",
       "0                 001     1585    2332    1296   2082   2448    3231     2836   \n",
       "1                 003    24760   51398   29902  51245  32891   53766    58150   \n",
       "2                 005    26209   80277   50465  79746  40901   69162    91940   \n",
       "3                 009     4196    5708    3248   5575   5227    7687     6416   \n",
       "4                 011     1214    1422     619   1336   2092    2867     2190   \n",
       "\n",
       "Candidate Name  SEN18R  \n",
       "0                 2073  \n",
       "1                29002  \n",
       "2                33614  \n",
       "3                 4822  \n",
       "4                 1823  "
      ]
     },
     "execution_count": 95,
     "metadata": {},
     "output_type": "execute_result"
    }
   ],
   "source": [
    "df18.head()"
   ]
  },
  {
   "cell_type": "code",
   "execution_count": 18,
   "id": "66c5f613",
   "metadata": {},
   "outputs": [],
   "source": [
    "df18.to_csv(\"GOV18.csv\")"
   ]
  },
  {
   "cell_type": "code",
   "execution_count": 103,
   "id": "1719a909",
   "metadata": {},
   "outputs": [],
   "source": [
    "joined = pd.merge(df12, df14, on = 'county')\n",
    "joined = pd.merge(joined, df16, on = 'county')\n",
    "joined = pd.merge(joined, df18, on = 'county')"
   ]
  },
  {
   "cell_type": "code",
   "execution_count": 98,
   "id": "9256e8b5",
   "metadata": {},
   "outputs": [
    {
     "data": {
      "text/plain": [
       "Index(['county', 'PRES12D', 'SEN12D', 'SEN12R', 'PRES12R'], dtype='object', name='Candidate Name')"
      ]
     },
     "execution_count": 98,
     "metadata": {},
     "output_type": "execute_result"
    }
   ],
   "source": [
    "df12.columns"
   ]
  },
  {
   "cell_type": "code",
   "execution_count": 99,
   "id": "87ac5de9",
   "metadata": {},
   "outputs": [
    {
     "data": {
      "text/plain": [
       "Index(['county', 'GOV14D', 'AG14D', 'AG14R', 'GOV14R', 'COMP14D', 'COMP14R'], dtype='object', name='Candidate Name')"
      ]
     },
     "execution_count": 99,
     "metadata": {},
     "output_type": "execute_result"
    }
   ],
   "source": [
    "df14.columns"
   ]
  },
  {
   "cell_type": "code",
   "execution_count": 100,
   "id": "9963e109",
   "metadata": {},
   "outputs": [
    {
     "data": {
      "text/plain": [
       "Index(['county', 'SEN16D', 'PRES16R', 'PRES16D', 'SEN16R'], dtype='object', name='Candidate Name')"
      ]
     },
     "execution_count": 100,
     "metadata": {},
     "output_type": "execute_result"
    }
   ],
   "source": [
    "df16.columns"
   ]
  },
  {
   "cell_type": "code",
   "execution_count": 101,
   "id": "e6568979",
   "metadata": {},
   "outputs": [
    {
     "data": {
      "text/plain": [
       "Index(['county', 'COMP18R', 'SEN18D', 'GOV18D', 'AG18D', 'AG18R', 'GOV18R',\n",
       "       'COMP18D', 'SEN18R'],\n",
       "      dtype='object', name='Candidate Name')"
      ]
     },
     "execution_count": 101,
     "metadata": {},
     "output_type": "execute_result"
    }
   ],
   "source": [
    "df18.columns"
   ]
  },
  {
   "cell_type": "code",
   "execution_count": 104,
   "id": "6ef641c7",
   "metadata": {},
   "outputs": [
    {
     "data": {
      "text/plain": [
       "Index(['county', 'PRES12D', 'SEN12D', 'SEN12R', 'PRES12R', 'GOV14D', 'AG14D',\n",
       "       'AG14R', 'GOV14R', 'COMP14D', 'COMP14R', 'SEN16D', 'PRES16R', 'PRES16D',\n",
       "       'SEN16R', 'COMP18R', 'SEN18D', 'GOV18D', 'AG18D', 'AG18R', 'GOV18R',\n",
       "       'COMP18D', 'SEN18R'],\n",
       "      dtype='object', name='Candidate Name')"
      ]
     },
     "execution_count": 104,
     "metadata": {},
     "output_type": "execute_result"
    }
   ],
   "source": [
    "joined.columns"
   ]
  },
  {
   "cell_type": "code",
   "execution_count": 105,
   "id": "c8273e90",
   "metadata": {},
   "outputs": [
    {
     "data": {
      "text/html": [
       "<div>\n",
       "<style scoped>\n",
       "    .dataframe tbody tr th:only-of-type {\n",
       "        vertical-align: middle;\n",
       "    }\n",
       "\n",
       "    .dataframe tbody tr th {\n",
       "        vertical-align: top;\n",
       "    }\n",
       "\n",
       "    .dataframe thead th {\n",
       "        text-align: right;\n",
       "    }\n",
       "</style>\n",
       "<table border=\"1\" class=\"dataframe\">\n",
       "  <thead>\n",
       "    <tr style=\"text-align: right;\">\n",
       "      <th>Candidate Name</th>\n",
       "      <th>county</th>\n",
       "      <th>PRES12D</th>\n",
       "      <th>SEN12D</th>\n",
       "      <th>SEN12R</th>\n",
       "      <th>PRES12R</th>\n",
       "      <th>GOV14D</th>\n",
       "      <th>AG14D</th>\n",
       "      <th>AG14R</th>\n",
       "      <th>GOV14R</th>\n",
       "      <th>COMP14D</th>\n",
       "      <th>...</th>\n",
       "      <th>PRES16D</th>\n",
       "      <th>SEN16R</th>\n",
       "      <th>COMP18R</th>\n",
       "      <th>SEN18D</th>\n",
       "      <th>GOV18D</th>\n",
       "      <th>AG18D</th>\n",
       "      <th>AG18R</th>\n",
       "      <th>GOV18R</th>\n",
       "      <th>COMP18D</th>\n",
       "      <th>SEN18R</th>\n",
       "    </tr>\n",
       "  </thead>\n",
       "  <tbody>\n",
       "    <tr>\n",
       "      <th>0</th>\n",
       "      <td>001</td>\n",
       "      <td>1860</td>\n",
       "      <td>1872</td>\n",
       "      <td>2072</td>\n",
       "      <td>2629</td>\n",
       "      <td>709</td>\n",
       "      <td>815</td>\n",
       "      <td>1250</td>\n",
       "      <td>1564</td>\n",
       "      <td>1237</td>\n",
       "      <td>...</td>\n",
       "      <td>2493</td>\n",
       "      <td>3114</td>\n",
       "      <td>1585</td>\n",
       "      <td>2332</td>\n",
       "      <td>1296</td>\n",
       "      <td>2082</td>\n",
       "      <td>2448</td>\n",
       "      <td>3231</td>\n",
       "      <td>2836</td>\n",
       "      <td>2073</td>\n",
       "    </tr>\n",
       "    <tr>\n",
       "      <th>1</th>\n",
       "      <td>003</td>\n",
       "      <td>32701</td>\n",
       "      <td>29750</td>\n",
       "      <td>19332</td>\n",
       "      <td>23783</td>\n",
       "      <td>18076</td>\n",
       "      <td>22062</td>\n",
       "      <td>22937</td>\n",
       "      <td>28873</td>\n",
       "      <td>27406</td>\n",
       "      <td>...</td>\n",
       "      <td>56152</td>\n",
       "      <td>38463</td>\n",
       "      <td>24760</td>\n",
       "      <td>51398</td>\n",
       "      <td>29902</td>\n",
       "      <td>51245</td>\n",
       "      <td>32891</td>\n",
       "      <td>53766</td>\n",
       "      <td>58150</td>\n",
       "      <td>29002</td>\n",
       "    </tr>\n",
       "    <tr>\n",
       "      <th>2</th>\n",
       "      <td>005</td>\n",
       "      <td>57527</td>\n",
       "      <td>53535</td>\n",
       "      <td>16996</td>\n",
       "      <td>25065</td>\n",
       "      <td>28785</td>\n",
       "      <td>36195</td>\n",
       "      <td>22660</td>\n",
       "      <td>32214</td>\n",
       "      <td>43546</td>\n",
       "      <td>...</td>\n",
       "      <td>102276</td>\n",
       "      <td>48958</td>\n",
       "      <td>26209</td>\n",
       "      <td>80277</td>\n",
       "      <td>50465</td>\n",
       "      <td>79746</td>\n",
       "      <td>40901</td>\n",
       "      <td>69162</td>\n",
       "      <td>91940</td>\n",
       "      <td>33614</td>\n",
       "    </tr>\n",
       "    <tr>\n",
       "      <th>3</th>\n",
       "      <td>009</td>\n",
       "      <td>5186</td>\n",
       "      <td>4684</td>\n",
       "      <td>3759</td>\n",
       "      <td>4831</td>\n",
       "      <td>2093</td>\n",
       "      <td>2410</td>\n",
       "      <td>3110</td>\n",
       "      <td>3858</td>\n",
       "      <td>2689</td>\n",
       "      <td>...</td>\n",
       "      <td>7263</td>\n",
       "      <td>7669</td>\n",
       "      <td>4196</td>\n",
       "      <td>5708</td>\n",
       "      <td>3248</td>\n",
       "      <td>5575</td>\n",
       "      <td>5227</td>\n",
       "      <td>7687</td>\n",
       "      <td>6416</td>\n",
       "      <td>4822</td>\n",
       "    </tr>\n",
       "    <tr>\n",
       "      <th>4</th>\n",
       "      <td>011</td>\n",
       "      <td>1330</td>\n",
       "      <td>1240</td>\n",
       "      <td>1334</td>\n",
       "      <td>1768</td>\n",
       "      <td>474</td>\n",
       "      <td>654</td>\n",
       "      <td>1025</td>\n",
       "      <td>1368</td>\n",
       "      <td>1038</td>\n",
       "      <td>...</td>\n",
       "      <td>1486</td>\n",
       "      <td>2500</td>\n",
       "      <td>1214</td>\n",
       "      <td>1422</td>\n",
       "      <td>619</td>\n",
       "      <td>1336</td>\n",
       "      <td>2092</td>\n",
       "      <td>2867</td>\n",
       "      <td>2190</td>\n",
       "      <td>1823</td>\n",
       "    </tr>\n",
       "  </tbody>\n",
       "</table>\n",
       "<p>5 rows × 23 columns</p>\n",
       "</div>"
      ],
      "text/plain": [
       "Candidate Name county  PRES12D  SEN12D  SEN12R  PRES12R  GOV14D  AG14D  AG14R  \\\n",
       "0                 001     1860    1872    2072     2629     709    815   1250   \n",
       "1                 003    32701   29750   19332    23783   18076  22062  22937   \n",
       "2                 005    57527   53535   16996    25065   28785  36195  22660   \n",
       "3                 009     5186    4684    3759     4831    2093   2410   3110   \n",
       "4                 011     1330    1240    1334     1768     474    654   1025   \n",
       "\n",
       "Candidate Name  GOV14R  COMP14D  ...  PRES16D  SEN16R  COMP18R  SEN18D  \\\n",
       "0                 1564     1237  ...     2493    3114     1585    2332   \n",
       "1                28873    27406  ...    56152   38463    24760   51398   \n",
       "2                32214    43546  ...   102276   48958    26209   80277   \n",
       "3                 3858     2689  ...     7263    7669     4196    5708   \n",
       "4                 1368     1038  ...     1486    2500     1214    1422   \n",
       "\n",
       "Candidate Name  GOV18D  AG18D  AG18R  GOV18R  COMP18D  SEN18R  \n",
       "0                 1296   2082   2448    3231     2836    2073  \n",
       "1                29902  51245  32891   53766    58150   29002  \n",
       "2                50465  79746  40901   69162    91940   33614  \n",
       "3                 3248   5575   5227    7687     6416    4822  \n",
       "4                  619   1336   2092    2867     2190    1823  \n",
       "\n",
       "[5 rows x 23 columns]"
      ]
     },
     "execution_count": 105,
     "metadata": {},
     "output_type": "execute_result"
    }
   ],
   "source": [
    "joined.head()"
   ]
  },
  {
   "cell_type": "code",
   "execution_count": 106,
   "id": "85551545",
   "metadata": {},
   "outputs": [],
   "source": [
    "joined.to_csv('MD_abs_by_county.csv')"
   ]
  },
  {
   "cell_type": "code",
   "execution_count": null,
   "id": "c728ffcc",
   "metadata": {},
   "outputs": [],
   "source": []
  },
  {
   "cell_type": "code",
   "execution_count": null,
   "id": "1e342ba7",
   "metadata": {},
   "outputs": [],
   "source": []
  },
  {
   "cell_type": "code",
   "execution_count": 112,
   "id": "b1b176e2",
   "metadata": {},
   "outputs": [
    {
     "data": {
      "text/html": [
       "<div>\n",
       "<style scoped>\n",
       "    .dataframe tbody tr th:only-of-type {\n",
       "        vertical-align: middle;\n",
       "    }\n",
       "\n",
       "    .dataframe tbody tr th {\n",
       "        vertical-align: top;\n",
       "    }\n",
       "\n",
       "    .dataframe thead th {\n",
       "        text-align: right;\n",
       "    }\n",
       "</style>\n",
       "<table border=\"1\" class=\"dataframe\">\n",
       "  <thead>\n",
       "    <tr style=\"text-align: right;\">\n",
       "      <th>Candidate Name</th>\n",
       "      <th>PRES16R</th>\n",
       "      <th>PRES16D</th>\n",
       "    </tr>\n",
       "  </thead>\n",
       "  <tbody>\n",
       "    <tr>\n",
       "      <th>0</th>\n",
       "      <td>3551</td>\n",
       "      <td>2493</td>\n",
       "    </tr>\n",
       "    <tr>\n",
       "      <th>1</th>\n",
       "      <td>36866</td>\n",
       "      <td>56152</td>\n",
       "    </tr>\n",
       "    <tr>\n",
       "      <th>2</th>\n",
       "      <td>47962</td>\n",
       "      <td>102276</td>\n",
       "    </tr>\n",
       "    <tr>\n",
       "      <th>3</th>\n",
       "      <td>7705</td>\n",
       "      <td>7263</td>\n",
       "    </tr>\n",
       "    <tr>\n",
       "      <th>4</th>\n",
       "      <td>2699</td>\n",
       "      <td>1486</td>\n",
       "    </tr>\n",
       "    <tr>\n",
       "      <th>5</th>\n",
       "      <td>14050</td>\n",
       "      <td>9362</td>\n",
       "    </tr>\n",
       "    <tr>\n",
       "      <th>6</th>\n",
       "      <td>7688</td>\n",
       "      <td>5005</td>\n",
       "    </tr>\n",
       "    <tr>\n",
       "      <th>7</th>\n",
       "      <td>8100</td>\n",
       "      <td>21950</td>\n",
       "    </tr>\n",
       "    <tr>\n",
       "      <th>8</th>\n",
       "      <td>2248</td>\n",
       "      <td>2401</td>\n",
       "    </tr>\n",
       "    <tr>\n",
       "      <th>9</th>\n",
       "      <td>14184</td>\n",
       "      <td>22052</td>\n",
       "    </tr>\n",
       "    <tr>\n",
       "      <th>10</th>\n",
       "      <td>2990</td>\n",
       "      <td>1187</td>\n",
       "    </tr>\n",
       "    <tr>\n",
       "      <th>11</th>\n",
       "      <td>27573</td>\n",
       "      <td>21722</td>\n",
       "    </tr>\n",
       "    <tr>\n",
       "      <th>12</th>\n",
       "      <td>16125</td>\n",
       "      <td>51537</td>\n",
       "    </tr>\n",
       "    <tr>\n",
       "      <th>13</th>\n",
       "      <td>1504</td>\n",
       "      <td>2371</td>\n",
       "    </tr>\n",
       "    <tr>\n",
       "      <th>14</th>\n",
       "      <td>32593</td>\n",
       "      <td>180158</td>\n",
       "    </tr>\n",
       "    <tr>\n",
       "      <th>15</th>\n",
       "      <td>12903</td>\n",
       "      <td>175338</td>\n",
       "    </tr>\n",
       "    <tr>\n",
       "      <th>16</th>\n",
       "      <td>7240</td>\n",
       "      <td>4367</td>\n",
       "    </tr>\n",
       "    <tr>\n",
       "      <th>17</th>\n",
       "      <td>8837</td>\n",
       "      <td>6973</td>\n",
       "    </tr>\n",
       "    <tr>\n",
       "      <th>18</th>\n",
       "      <td>1576</td>\n",
       "      <td>1915</td>\n",
       "    </tr>\n",
       "    <tr>\n",
       "      <th>19</th>\n",
       "      <td>4991</td>\n",
       "      <td>5238</td>\n",
       "    </tr>\n",
       "    <tr>\n",
       "      <th>20</th>\n",
       "      <td>8614</td>\n",
       "      <td>6796</td>\n",
       "    </tr>\n",
       "    <tr>\n",
       "      <th>21</th>\n",
       "      <td>6488</td>\n",
       "      <td>7284</td>\n",
       "    </tr>\n",
       "    <tr>\n",
       "      <th>22</th>\n",
       "      <td>5534</td>\n",
       "      <td>3817</td>\n",
       "    </tr>\n",
       "    <tr>\n",
       "      <th>23</th>\n",
       "      <td>6591</td>\n",
       "      <td>81626</td>\n",
       "    </tr>\n",
       "  </tbody>\n",
       "</table>\n",
       "</div>"
      ],
      "text/plain": [
       "Candidate Name  PRES16R  PRES16D\n",
       "0                  3551     2493\n",
       "1                 36866    56152\n",
       "2                 47962   102276\n",
       "3                  7705     7263\n",
       "4                  2699     1486\n",
       "5                 14050     9362\n",
       "6                  7688     5005\n",
       "7                  8100    21950\n",
       "8                  2248     2401\n",
       "9                 14184    22052\n",
       "10                 2990     1187\n",
       "11                27573    21722\n",
       "12                16125    51537\n",
       "13                 1504     2371\n",
       "14                32593   180158\n",
       "15                12903   175338\n",
       "16                 7240     4367\n",
       "17                 8837     6973\n",
       "18                 1576     1915\n",
       "19                 4991     5238\n",
       "20                 8614     6796\n",
       "21                 6488     7284\n",
       "22                 5534     3817\n",
       "23                 6591    81626"
      ]
     },
     "execution_count": 112,
     "metadata": {},
     "output_type": "execute_result"
    }
   ],
   "source": [
    "df16[[\"PRES16R\", \"PRES16D\"]]"
   ]
  },
  {
   "cell_type": "code",
   "execution_count": 111,
   "id": "e3a9c1cf",
   "metadata": {},
   "outputs": [
    {
     "data": {
      "text/plain": [
       "1069381"
      ]
     },
     "execution_count": 111,
     "metadata": {},
     "output_type": "execute_result"
    }
   ],
   "source": [
    "df16[[\"PRES16R\", \"PRES16D\"]].sum().sum()"
   ]
  },
  {
   "cell_type": "code",
   "execution_count": null,
   "id": "bbf32bb8",
   "metadata": {},
   "outputs": [],
   "source": []
  }
 ],
 "metadata": {
  "kernelspec": {
   "display_name": "Python 3 (ipykernel)",
   "language": "python",
   "name": "python3"
  },
  "language_info": {
   "codemirror_mode": {
    "name": "ipython",
    "version": 3
   },
   "file_extension": ".py",
   "mimetype": "text/x-python",
   "name": "python",
   "nbconvert_exporter": "python",
   "pygments_lexer": "ipython3",
   "version": "3.8.5"
  }
 },
 "nbformat": 4,
 "nbformat_minor": 5
}
