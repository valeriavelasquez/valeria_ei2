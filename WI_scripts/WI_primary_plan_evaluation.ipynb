{
 "cells": [
  {
   "cell_type": "code",
   "execution_count": 2,
   "id": "b0825b93",
   "metadata": {},
   "outputs": [],
   "source": [
    "import sys\n",
    "sys.path.append(\"../\")\n",
    "import geopandas as gpd\n",
    "import pandas as pd\n",
    "from info import info\n",
    "import os"
   ]
  },
  {
   "cell_type": "code",
   "execution_count": 3,
   "id": "793bc36a",
   "metadata": {},
   "outputs": [],
   "source": [
    "elections = info[\"WI_20\"][\"elections\"]"
   ]
  },
  {
   "cell_type": "code",
   "execution_count": 18,
   "id": "f8198fdb",
   "metadata": {},
   "outputs": [],
   "source": [
    "def initialize_gdf():\n",
    "    gdf = gpd.read_file(\"../shapes/WI_vtd20/\")\n",
    "\n",
    "    folder = \"/Users/gabe/Dropbox/PlanAnalysis/proposed_plans/Wisconsin\"\n",
    "    plans = []\n",
    "    for level in [\"congress\", \"state_senate\", \"state_house\"]:\n",
    "        name = \"CD\" if level == \"congress\" else \"SD\" if level == \"state_senate\" else \"HD\"\n",
    "        for file in os.listdir(f\"{folder}/{level}\"):\n",
    "            if \"csv\" in file:\n",
    "                if \"Enacted\" in file:\n",
    "                    plan_name = f\"{file[:-4]}-{name}\"\n",
    "                else:\n",
    "                    plan_name = f\"{file[:-4]}\"\n",
    "                print(plan_name)\n",
    "                plans.append(plan_name)\n",
    "                assignment = pd.read_csv(f\"{folder}/{level}/{file}\").astype(str)\n",
    "                assignment.columns = [\"GEOID20\", plan_name]\n",
    "                gdf = gdf.merge(assignment, on=\"GEOID20\")\n",
    "    return gdf, plans"
   ]
  },
  {
   "cell_type": "code",
   "execution_count": 19,
   "id": "93c68a59",
   "metadata": {},
   "outputs": [
    {
     "name": "stdout",
     "output_type": "stream",
     "text": [
      "Enacted-CD\n",
      "PMC-CD\n",
      "Enacted-SD\n",
      "PMC-SD\n",
      "Enacted-HD\n",
      "PMC-HD\n"
     ]
    }
   ],
   "source": [
    "gdf, plans = initialize_gdf()"
   ]
  },
  {
   "cell_type": "code",
   "execution_count": 20,
   "id": "dbd06ef5",
   "metadata": {},
   "outputs": [
    {
     "data": {
      "text/plain": [
       "['Enacted-CD', 'PMC-CD', 'Enacted-SD', 'PMC-SD', 'Enacted-HD', 'PMC-HD']"
      ]
     },
     "execution_count": 20,
     "metadata": {},
     "output_type": "execute_result"
    }
   ],
   "source": [
    "plans"
   ]
  },
  {
   "cell_type": "code",
   "execution_count": 21,
   "id": "7d45e41b",
   "metadata": {},
   "outputs": [
    {
     "data": {
      "text/plain": [
       "{'POP_COL': 'VAP',\n",
       " 'candidates': {'LG18P_BARN': {'name': 'Mandela Barnes',\n",
       "   'race': 'B',\n",
       "   'won': True},\n",
       "  'LG18P_KOBE': {'name': 'Kurt Kober', 'race': 'W', 'won': False}}}"
      ]
     },
     "execution_count": 21,
     "metadata": {},
     "output_type": "execute_result"
    }
   ],
   "source": [
    "elections[\"LG18P\"]"
   ]
  },
  {
   "cell_type": "code",
   "execution_count": 22,
   "id": "7253a3ab",
   "metadata": {},
   "outputs": [],
   "source": [
    "def summarize_plan(gdf, plan):\n",
    "    gdf[plan] = gdf[plan].astype(int)\n",
    "    gdf = gdf.groupby(plan).sum()\n",
    "    gdf[\"POCVAP20_pct\"] = 1 - (gdf[\"WVAP20\"] / gdf[\"VAP20\"])\n",
    "    gdf[\"BVAP20_pct\"] = gdf[\"BVAP20\"] / gdf[\"VAP20\"]\n",
    "    gdf[\"HVAP20_pct\"] = gdf[\"HVAP20\"] / gdf[\"VAP20\"]\n",
    "    gdf[\"AMINVAP20_pct\"] = gdf[\"AMINVAP20\"] / gdf[\"VAP20\"]\n",
    "    elections = info[\"WI_20\"][\"elections\"]\n",
    "    cols = [\"POCVAP20_pct\", \"BVAP20_pct\", \"HVAP20_pct\", \"AMINVAP20_pct\"]\n",
    "    for election in [\"LG18P\", \"GOV18P\", \"SOS18P\"]:\n",
    "        candidates = elections[election][\"candidates\"].keys()\n",
    "        tot_vote = gdf[candidates].sum(axis=1)\n",
    "        for candidate in candidates:\n",
    "            col = f\"{election}_{elections[election]['candidates'][candidate]['name'].split(' ')[-1]}\"\n",
    "            gdf[col] = gdf[candidate] / tot_vote\n",
    "            cols.append(col)\n",
    "    return gdf[cols]"
   ]
  },
  {
   "cell_type": "code",
   "execution_count": 23,
   "id": "46d93df5",
   "metadata": {},
   "outputs": [],
   "source": [
    "for plan in plans:\n",
    "    summary = summarize_plan(gdf, plan)\n",
    "    summary.to_csv(f\"~/Dropbox/gabe-moon/WI_primary_evals_102821/{plan}.csv\")"
   ]
  },
  {
   "cell_type": "code",
   "execution_count": null,
   "id": "9fb7a26f",
   "metadata": {},
   "outputs": [],
   "source": []
  }
 ],
 "metadata": {
  "kernelspec": {
   "display_name": "Python 3 (ipykernel)",
   "language": "python",
   "name": "python3"
  },
  "language_info": {
   "codemirror_mode": {
    "name": "ipython",
    "version": 3
   },
   "file_extension": ".py",
   "mimetype": "text/x-python",
   "name": "python",
   "nbconvert_exporter": "python",
   "pygments_lexer": "ipython3",
   "version": "3.8.5"
  }
 },
 "nbformat": 4,
 "nbformat_minor": 5
}
